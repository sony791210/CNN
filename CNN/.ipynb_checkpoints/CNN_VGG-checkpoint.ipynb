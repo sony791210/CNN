{
 "cells": [
  {
   "cell_type": "code",
   "execution_count": 2,
   "metadata": {},
   "outputs": [],
   "source": [
    "# We'll generate plots of attention in order to see which parts of an image\n",
    "# our model focuses on during captioning\n",
    "import matplotlib.pyplot as plt\n",
    "\n",
    "# Scikit-learn includes many helpful utilities\n",
    "from sklearn.model_selection import train_test_split\n",
    "from sklearn.utils import shuffle\n",
    "\n",
    "import re\n",
    "import numpy as np\n",
    "import os\n",
    "import time\n",
    "import json\n",
    "from glob import glob\n",
    "from PIL import Image\n",
    "import pickle"
   ]
  },
  {
   "cell_type": "code",
   "execution_count": 3,
   "metadata": {},
   "outputs": [],
   "source": [
    "import keras\n",
    "from keras.datasets import cifar10\n",
    "from keras.preprocessing.image import ImageDataGenerator\n",
    "from keras.models import Sequential, load_model\n",
    "from keras.layers import Dense, Dropout, Activation, Flatten\n",
    "from keras.layers import Conv2D, MaxPooling2D\n",
    "from keras.callbacks import EarlyStopping, ModelCheckpoint"
   ]
  },
  {
   "cell_type": "code",
   "execution_count": 4,
   "metadata": {},
   "outputs": [],
   "source": [
    "from keras.datasets import cifar10"
   ]
  },
  {
   "cell_type": "code",
   "execution_count": null,
   "metadata": {},
   "outputs": [],
   "source": []
  },
  {
   "cell_type": "code",
   "execution_count": 5,
   "metadata": {},
   "outputs": [
    {
     "name": "stdout",
     "output_type": "stream",
     "text": [
      "x_train shape: (50000, 32, 32, 3)\n",
      "50000 train samples\n",
      "10000 test samples\n"
     ]
    }
   ],
   "source": [
    "# The data, shuffled and split between train and test sets:\n",
    "(x_train, y_train), (x_test, y_test) = cifar10.load_data()\n",
    "print('x_train shape:', x_train.shape)\n",
    "print(x_train.shape[0], 'train samples')\n",
    "print(x_test.shape[0], 'test samples')"
   ]
  },
  {
   "cell_type": "code",
   "execution_count": null,
   "metadata": {},
   "outputs": [],
   "source": []
  },
  {
   "cell_type": "code",
   "execution_count": 6,
   "metadata": {},
   "outputs": [
    {
     "data": {
      "text/plain": [
       "Text(0.5,1,'[6]')"
      ]
     },
     "execution_count": 6,
     "metadata": {},
     "output_type": "execute_result"
    },
    {
     "data": {
      "image/png": "[encoded data removed]",
      "text/plain": [
       "<Figure size 432x288 with 1 Axes>"
      ]
     },
     "metadata": {
      "needs_background": "light"
     },
     "output_type": "display_data"
    }
   ],
   "source": [
    "plt.imshow(x_train[0,:,:,:])\n",
    "plt.title(y_train[0])"
   ]
  },
  {
   "cell_type": "code",
   "execution_count": 7,
   "metadata": {},
   "outputs": [],
   "source": [
    "batch_size = 128\n",
    "num_classes = 10\n",
    "epochs = 100\n",
    "save_dir = os.path.join(os.getcwd(), 'saved_models')\n",
    "model_name = 'keras_cifar10_trained_model.h5'"
   ]
  },
  {
   "cell_type": "code",
   "execution_count": null,
   "metadata": {},
   "outputs": [],
   "source": []
  },
  {
   "cell_type": "code",
   "execution_count": 8,
   "metadata": {},
   "outputs": [],
   "source": [
    "from keras.applications.vgg16 import VGG16\n",
    "from keras.preprocessing import image\n",
    "from keras.applications.vgg16 import preprocess_input\n",
    "import numpy as np"
   ]
  },
  {
   "cell_type": "code",
   "execution_count": null,
   "metadata": {},
   "outputs": [
    {
     "name": "stdout",
     "output_type": "stream",
     "text": [
      "Downloading data from https://github.com/fchollet/deep-learning-models/releases/download/v0.1/vgg16_weights_tf_dim_ordering_tf_kernels.h5\n",
      "362749952/553467096 [==================>...........] - ETA: 29s"
     ]
    }
   ],
   "source": [
    "#model = VGG16(weights=None, include_top=False,input_shape=x_train.shape[1:])\n",
    "base_model = VGG16(weights='imagenet')"
   ]
  },
  {
   "cell_type": "code",
   "execution_count": 13,
   "metadata": {},
   "outputs": [
    {
     "data": {
      "text/plain": [
       "(50000, 32, 32, 3)"
      ]
     },
     "execution_count": 13,
     "metadata": {},
     "output_type": "execute_result"
    }
   ],
   "source": [
    "print(base_model.summary())"
   ]
  },
  {
   "cell_type": "code",
   "execution_count": 15,
   "metadata": {},
   "outputs": [
    {
     "data": {
      "text/plain": [
       "(32, 32, 3)"
      ]
     },
     "execution_count": 15,
     "metadata": {},
     "output_type": "execute_result"
    }
   ],
   "source": []
  },
  {
   "cell_type": "code",
   "execution_count": 17,
   "metadata": {},
   "outputs": [
    {
     "ename": "ValueError",
     "evalue": "cannot reshape array of size 3072 into shape (48,48,3)",
     "output_type": "error",
     "traceback": [
      "\u001b[0;31m---------------------------------------------------------------------------\u001b[0m",
      "\u001b[0;31mValueError\u001b[0m                                Traceback (most recent call last)",
      "\u001b[0;32m<ipython-input-17-1fc62847c236>\u001b[0m in \u001b[0;36m<module>\u001b[0;34m()\u001b[0m\n\u001b[0;32m----> 1\u001b[0;31m \u001b[0mx_train\u001b[0m\u001b[0;34m[\u001b[0m\u001b[0;36m0\u001b[0m\u001b[0;34m,\u001b[0m\u001b[0;34m:\u001b[0m\u001b[0;34m,\u001b[0m\u001b[0;34m:\u001b[0m\u001b[0;34m,\u001b[0m\u001b[0;34m:\u001b[0m\u001b[0;34m]\u001b[0m\u001b[0;34m.\u001b[0m\u001b[0mreshape\u001b[0m\u001b[0;34m(\u001b[0m\u001b[0;34m(\u001b[0m\u001b[0;36m48\u001b[0m\u001b[0;34m,\u001b[0m\u001b[0;36m48\u001b[0m\u001b[0;34m,\u001b[0m\u001b[0;36m3\u001b[0m\u001b[0;34m)\u001b[0m\u001b[0;34m)\u001b[0m\u001b[0;34m\u001b[0m\u001b[0;34m\u001b[0m\u001b[0m\n\u001b[0m",
      "\u001b[0;31mValueError\u001b[0m: cannot reshape array of size 3072 into shape (48,48,3)"
     ]
    }
   ],
   "source": [
    "x_train[0,:,:,:].reshape((48,48,3))"
   ]
  },
  {
   "cell_type": "code",
   "execution_count": 7,
   "metadata": {},
   "outputs": [
    {
     "name": "stdout",
     "output_type": "stream",
     "text": [
      "_________________________________________________________________\n",
      "Layer (type)                 Output Shape              Param #   \n",
      "=================================================================\n",
      "conv2d_1 (Conv2D)            (None, 32, 32, 64)        1792      \n",
      "_________________________________________________________________\n",
      "activation_1 (Activation)    (None, 32, 32, 64)        0         \n",
      "_________________________________________________________________\n",
      "conv2d_2 (Conv2D)            (None, 30, 30, 128)       73856     \n",
      "_________________________________________________________________\n",
      "activation_2 (Activation)    (None, 30, 30, 128)       0         \n",
      "_________________________________________________________________\n",
      "max_pooling2d_1 (MaxPooling2 (None, 15, 15, 128)       0         \n",
      "_________________________________________________________________\n",
      "dropout_1 (Dropout)          (None, 15, 15, 128)       0         \n",
      "_________________________________________________________________\n",
      "conv2d_3 (Conv2D)            (None, 15, 15, 64)        73792     \n",
      "_________________________________________________________________\n",
      "activation_3 (Activation)    (None, 15, 15, 64)        0         \n",
      "_________________________________________________________________\n",
      "conv2d_4 (Conv2D)            (None, 13, 13, 64)        36928     \n",
      "_________________________________________________________________\n",
      "activation_4 (Activation)    (None, 13, 13, 64)        0         \n",
      "_________________________________________________________________\n",
      "max_pooling2d_2 (MaxPooling2 (None, 6, 6, 64)          0         \n",
      "_________________________________________________________________\n",
      "dropout_2 (Dropout)          (None, 6, 6, 64)          0         \n",
      "_________________________________________________________________\n",
      "flatten_1 (Flatten)          (None, 2304)              0         \n",
      "_________________________________________________________________\n",
      "dense_1 (Dense)              (None, 512)               1180160   \n",
      "_________________________________________________________________\n",
      "activation_5 (Activation)    (None, 512)               0         \n",
      "_________________________________________________________________\n",
      "dropout_3 (Dropout)          (None, 512)               0         \n",
      "_________________________________________________________________\n",
      "dense_2 (Dense)              (None, 10)                5130      \n",
      "_________________________________________________________________\n",
      "activation_6 (Activation)    (None, 10)                0         \n",
      "=================================================================\n",
      "Total params: 1,371,658\n",
      "Trainable params: 1,371,658\n",
      "Non-trainable params: 0\n",
      "_________________________________________________________________\n",
      "None\n"
     ]
    }
   ],
   "source": [
    "# Convert class vectors to binary class matrices.\n",
    "y_train = keras.utils.to_categorical(y_train, num_classes)\n",
    "y_test = keras.utils.to_categorical(y_test, num_classes)\n",
    "\n",
    "# build our CNN model\n",
    "model = Sequential()\n",
    "model.add(Conv2D(64, (3, 3), padding='same',\n",
    "                 input_shape=x_train.shape[1:]))\n",
    "model.add(Activation('relu'))\n",
    "model.add(Conv2D(128, (3, 3)))\n",
    "model.add(Activation('relu'))\n",
    "model.add(MaxPooling2D(pool_size=(2, 2)))\n",
    "model.add(Dropout(0.25))\n",
    "\n",
    "model.add(Conv2D(64, (3, 3), padding='same'))\n",
    "model.add(Activation('relu'))\n",
    "model.add(Conv2D(64, (3, 3)))\n",
    "model.add(Activation('relu'))\n",
    "model.add(MaxPooling2D(pool_size=(2, 2)))\n",
    "model.add(Dropout(0.25))\n",
    "\n",
    "model.add(Flatten())\n",
    "model.add(Dense(512))\n",
    "model.add(Activation('relu'))\n",
    "model.add(Dropout(0.5))\n",
    "model.add(Dense(num_classes))\n",
    "model.add(Activation('softmax'))\n",
    "\n",
    "print(model.summary())\n",
    "\n"
   ]
  },
  {
   "cell_type": "code",
   "execution_count": 15,
   "metadata": {},
   "outputs": [
    {
     "data": {
      "text/plain": [
       "(50000, 32, 32, 3)"
      ]
     },
     "execution_count": 15,
     "metadata": {},
     "output_type": "execute_result"
    }
   ],
   "source": []
  },
  {
   "cell_type": "code",
   "execution_count": 8,
   "metadata": {},
   "outputs": [
    {
     "name": "stdout",
     "output_type": "stream",
     "text": [
      "Using real-time data augmentation.\n",
      "Epoch 1/100\n",
      "391/391 [==============================] - 22s 56ms/step - loss: 1.7272 - acc: 0.3616 - val_loss: 1.3192 - val_acc: 0.5154\n",
      "\n",
      "Epoch 00001: val_loss improved from inf to 1.31921, saving model to /home/apple791210/jupyter/bigdata_learn/IMAGE/CNN/saved_models/keras_cifar10_trained_model.h5\n",
      "Epoch 2/100\n",
      "391/391 [==============================] - 17s 43ms/step - loss: 1.3756 - acc: 0.5032 - val_loss: 1.1787 - val_acc: 0.5793\n",
      "\n",
      "Epoch 00002: val_loss improved from 1.31921 to 1.17870, saving model to /home/apple791210/jupyter/bigdata_learn/IMAGE/CNN/saved_models/keras_cifar10_trained_model.h5\n",
      "Epoch 3/100\n",
      "391/391 [==============================] - 16s 41ms/step - loss: 1.2319 - acc: 0.5610 - val_loss: 1.1116 - val_acc: 0.6105\n",
      "\n",
      "Epoch 00003: val_loss improved from 1.17870 to 1.11157, saving model to /home/apple791210/jupyter/bigdata_learn/IMAGE/CNN/saved_models/keras_cifar10_trained_model.h5\n",
      "Epoch 4/100\n",
      "391/391 [==============================] - 16s 42ms/step - loss: 1.1399 - acc: 0.5946 - val_loss: 0.9070 - val_acc: 0.6820\n",
      "\n",
      "Epoch 00004: val_loss improved from 1.11157 to 0.90699, saving model to /home/apple791210/jupyter/bigdata_learn/IMAGE/CNN/saved_models/keras_cifar10_trained_model.h5\n",
      "Epoch 5/100\n",
      "391/391 [==============================] - 17s 42ms/step - loss: 1.0773 - acc: 0.6186 - val_loss: 0.9123 - val_acc: 0.6784\n",
      "\n",
      "Epoch 00005: val_loss did not improve from 0.90699\n",
      "Epoch 6/100\n",
      "391/391 [==============================] - 17s 43ms/step - loss: 1.0266 - acc: 0.6359 - val_loss: 0.8499 - val_acc: 0.7017\n",
      "\n",
      "Epoch 00006: val_loss improved from 0.90699 to 0.84989, saving model to /home/apple791210/jupyter/bigdata_learn/IMAGE/CNN/saved_models/keras_cifar10_trained_model.h5\n",
      "Epoch 7/100\n",
      "391/391 [==============================] - 16s 41ms/step - loss: 0.9910 - acc: 0.6540 - val_loss: 0.8009 - val_acc: 0.7192\n",
      "\n",
      "Epoch 00007: val_loss improved from 0.84989 to 0.80091, saving model to /home/apple791210/jupyter/bigdata_learn/IMAGE/CNN/saved_models/keras_cifar10_trained_model.h5\n",
      "Epoch 8/100\n",
      "391/391 [==============================] - 16s 42ms/step - loss: 0.9573 - acc: 0.6618 - val_loss: 0.8085 - val_acc: 0.7218\n",
      "\n",
      "Epoch 00008: val_loss did not improve from 0.80091\n",
      "Epoch 9/100\n",
      "391/391 [==============================] - 16s 42ms/step - loss: 0.9383 - acc: 0.6729 - val_loss: 0.8793 - val_acc: 0.7082\n",
      "\n",
      "Epoch 00009: val_loss did not improve from 0.80091\n",
      "Epoch 10/100\n",
      "391/391 [==============================] - 17s 43ms/step - loss: 0.9169 - acc: 0.6778 - val_loss: 0.7804 - val_acc: 0.7273\n",
      "\n",
      "Epoch 00010: val_loss improved from 0.80091 to 0.78045, saving model to /home/apple791210/jupyter/bigdata_learn/IMAGE/CNN/saved_models/keras_cifar10_trained_model.h5\n",
      "Epoch 11/100\n",
      "391/391 [==============================] - 16s 42ms/step - loss: 0.8920 - acc: 0.6885 - val_loss: 0.7913 - val_acc: 0.7259\n",
      "\n",
      "Epoch 00011: val_loss did not improve from 0.78045\n",
      "Epoch 12/100\n",
      "391/391 [==============================] - 16s 42ms/step - loss: 0.8705 - acc: 0.6935 - val_loss: 0.7915 - val_acc: 0.7284\n",
      "\n",
      "Epoch 00012: val_loss did not improve from 0.78045\n",
      "Epoch 13/100\n",
      "391/391 [==============================] - 16s 42ms/step - loss: 0.8552 - acc: 0.7006 - val_loss: 0.7494 - val_acc: 0.7470\n",
      "\n",
      "Epoch 00013: val_loss improved from 0.78045 to 0.74936, saving model to /home/apple791210/jupyter/bigdata_learn/IMAGE/CNN/saved_models/keras_cifar10_trained_model.h5\n",
      "Epoch 14/100\n",
      "391/391 [==============================] - 17s 43ms/step - loss: 0.8394 - acc: 0.7054 - val_loss: 0.7279 - val_acc: 0.7526\n",
      "\n",
      "Epoch 00014: val_loss improved from 0.74936 to 0.72788, saving model to /home/apple791210/jupyter/bigdata_learn/IMAGE/CNN/saved_models/keras_cifar10_trained_model.h5\n",
      "Epoch 15/100\n",
      "391/391 [==============================] - 17s 42ms/step - loss: 0.8359 - acc: 0.7070 - val_loss: 0.7328 - val_acc: 0.7510\n",
      "\n",
      "Epoch 00015: val_loss did not improve from 0.72788\n",
      "Epoch 16/100\n",
      "391/391 [==============================] - 16s 42ms/step - loss: 0.8146 - acc: 0.7159 - val_loss: 0.7009 - val_acc: 0.7611\n",
      "\n",
      "Epoch 00016: val_loss improved from 0.72788 to 0.70089, saving model to /home/apple791210/jupyter/bigdata_learn/IMAGE/CNN/saved_models/keras_cifar10_trained_model.h5\n",
      "Epoch 17/100\n",
      "391/391 [==============================] - 16s 41ms/step - loss: 0.8046 - acc: 0.7215 - val_loss: 0.7407 - val_acc: 0.7488\n",
      "\n",
      "Epoch 00017: val_loss did not improve from 0.70089\n",
      "Epoch 18/100\n",
      "391/391 [==============================] - 17s 42ms/step - loss: 0.7933 - acc: 0.7253 - val_loss: 0.7324 - val_acc: 0.7510\n",
      "\n",
      "Epoch 00018: val_loss did not improve from 0.70089\n",
      "Epoch 19/100\n",
      "391/391 [==============================] - 17s 43ms/step - loss: 0.7942 - acc: 0.7246 - val_loss: 0.7742 - val_acc: 0.7420\n",
      "\n",
      "Epoch 00019: val_loss did not improve from 0.70089\n",
      "Epoch 20/100\n",
      "391/391 [==============================] - 16s 42ms/step - loss: 0.7819 - acc: 0.7277 - val_loss: 0.7027 - val_acc: 0.7652\n",
      "\n",
      "Epoch 00020: val_loss did not improve from 0.70089\n",
      "Epoch 21/100\n",
      "391/391 [==============================] - 16s 42ms/step - loss: 0.7824 - acc: 0.7299 - val_loss: 0.7071 - val_acc: 0.7598\n",
      "\n",
      "Epoch 00021: val_loss did not improve from 0.70089\n",
      "Epoch 00021: early stopping\n"
     ]
    }
   ],
   "source": [
    "# initiate Adam optimizer\n",
    "opt = keras.optimizers.Adam()\n",
    "\n",
    "# Let's train the model using Adam\n",
    "model.compile(loss='categorical_crossentropy',\n",
    "              optimizer=opt,\n",
    "              metrics=['accuracy'])\n",
    "\n",
    "x_train = x_train.astype('float32')\n",
    "x_test = x_test.astype('float32')\n",
    "x_train /= 255.\n",
    "x_test /= 255.\n",
    "\n",
    "\n",
    "print('Using real-time data augmentation.')\n",
    "# This will do preprocessing and realtime data augmentation:\n",
    "datagen = ImageDataGenerator(\n",
    "    rotation_range=30,  # randomly rotate images in the range (degrees, 0 to 180)\n",
    "    width_shift_range=0.1,  # randomly shift images horizontally (fraction of total width)\n",
    "    height_shift_range=0.1,  # randomly shift images vertically (fraction of total height)\n",
    "    horizontal_flip=True,  # randomly flip images\n",
    "    vertical_flip=False)  # randomly flip images\n",
    "\n",
    "# Use ModelCheckpoint to save model and weights\n",
    "if not os.path.isdir(save_dir):\n",
    "    os.makedirs(save_dir)\n",
    "model_path = os.path.join(save_dir, model_name)\n",
    "checkpoint = ModelCheckpoint(model_path, monitor='val_loss', save_best_only=True, verbose=1)\n",
    "\n",
    "# earlystop\n",
    "earlystop = EarlyStopping(monitor='val_loss', patience=5, verbose=1)\n",
    "\n",
    "# Fit the model on the batches generated by datagen.flow().\n",
    "model_history = model.fit_generator(datagen.flow(x_train, y_train,\n",
    "                                 batch_size=batch_size),\n",
    "                    epochs=epochs,\n",
    "                    validation_data=(x_test, y_test),\n",
    "                    workers=4,\n",
    "                    callbacks=[earlystop, checkpoint])"
   ]
  },
  {
   "cell_type": "code",
   "execution_count": null,
   "metadata": {},
   "outputs": [],
   "source": []
  },
  {
   "cell_type": "code",
   "execution_count": 9,
   "metadata": {},
   "outputs": [
    {
     "name": "stdout",
     "output_type": "stream",
     "text": [
      "Loading trained model\n",
      "10000/10000 [==============================] - 2s 153us/step\n",
      "Test loss: 0.7008862155914307\n",
      "Test accuracy: 0.7611\n"
     ]
    }
   ],
   "source": [
    "# loading our save model\n",
    "print(\"Loading trained model\")\n",
    "model = load_model(model_path)\n",
    "\n",
    "# Score trained model.\n",
    "scores = model.evaluate(x_test, y_test, verbose=1)\n",
    "print('Test loss:', scores[0])\n",
    "print('Test accuracy:', scores[1])"
   ]
  },
  {
   "cell_type": "code",
   "execution_count": null,
   "metadata": {},
   "outputs": [],
   "source": []
  },
  {
   "cell_type": "code",
   "execution_count": 13,
   "metadata": {},
   "outputs": [
    {
     "data": {
      "image/png": "[encoded data removed]",
      "text/plain": [
       "<Figure size 432x288 with 1 Axes>"
      ]
     },
     "metadata": {
      "needs_background": "light"
     },
     "output_type": "display_data"
    }
   ],
   "source": [
    "training_loss = model_history.history['acc']\n",
    "val_loss = model_history.history['val_acc']\n",
    "\n",
    "plt.plot(training_loss, label=\"training_loss\")\n",
    "plt.plot(val_loss, label=\"validation_loss\")\n",
    "plt.xlabel(\"Epochs\")\n",
    "plt.ylabel(\"Loss\")\n",
    "plt.title(\"Learning Curve\")\n",
    "plt.legend(loc='best')\n",
    "plt.show()"
   ]
  },
  {
   "cell_type": "code",
   "execution_count": 27,
   "metadata": {},
   "outputs": [
    {
     "data": {
      "text/plain": [
       "6"
      ]
     },
     "execution_count": 27,
     "metadata": {},
     "output_type": "execute_result"
    }
   ],
   "source": [
    "td=x_train[0,:,:,:]\n",
    "ans=model.predict(td.reshape(1,32,32,3))\n",
    "np.argmax(ans)"
   ]
  },
  {
   "cell_type": "code",
   "execution_count": 60,
   "metadata": {},
   "outputs": [
    {
     "data": {
      "text/plain": [
       "Text(0.5,1,'real is 6  predict is 7')"
      ]
     },
     "execution_count": 60,
     "metadata": {},
     "output_type": "execute_result"
    },
    {
     "data": {
      "image/png": "[encoded data removed]",
      "text/plain": [
       "<Figure size 432x288 with 1 Axes>"
      ]
     },
     "metadata": {
      "needs_background": "light"
     },
     "output_type": "display_data"
    }
   ],
   "source": [
    "ct=np.random.randint(5000, size=(1))\n",
    "td=x_train[ct,:,:,:]\n",
    "plt.imshow(td.reshape(32,32,3))\n",
    "plt.title('real is '+ str(np.argmax(y_train[ct]))+ '  predict is '+str(np.argmax(model.predict(td.reshape(1,32,32,3)))))"
   ]
  },
  {
   "cell_type": "code",
   "execution_count": null,
   "metadata": {},
   "outputs": [],
   "source": []
  },
  {
   "cell_type": "code",
   "execution_count": null,
   "metadata": {},
   "outputs": [],
   "source": []
  },
  {
   "cell_type": "code",
   "execution_count": 78,
   "metadata": {},
   "outputs": [],
   "source": [
    "pred=model.predict_classes(x_test)\n",
    "real=np.argmax(y_test, axis=1)"
   ]
  },
  {
   "cell_type": "code",
   "execution_count": 79,
   "metadata": {},
   "outputs": [],
   "source": [
    "from sklearn.metrics import confusion_matrix"
   ]
  },
  {
   "cell_type": "code",
   "execution_count": 80,
   "metadata": {},
   "outputs": [
    {
     "data": {
      "text/plain": [
       "array([[783,  18,  23,  14,   6,   3,   6,  27,  40,  80],\n",
       "       [  2, 887,   0,   2,   0,   0,   6,   1,   4,  98],\n",
       "       [ 76,   5, 501,  35,  79,  63, 156,  53,   5,  27],\n",
       "       [ 11,  11,  20, 523,  45, 173, 131,  47,   9,  30],\n",
       "       [  9,   1,  17,  33, 679,  30, 132,  89,   7,   3],\n",
       "       [  6,   5,  14, 103,  37, 728,  37,  52,   1,  17],\n",
       "       [  4,   3,   3,  28,  11,  15, 914,  10,   3,   9],\n",
       "       [  8,   1,   4,  20,  32,  36,  15, 862,   1,  21],\n",
       "       [ 61,  22,   6,   8,   4,   0,  10,   7, 818,  64],\n",
       "       [ 13,  44,   2,   3,   2,   5,   4,   6,   5, 916]])"
      ]
     },
     "execution_count": 80,
     "metadata": {},
     "output_type": "execute_result"
    }
   ],
   "source": []
  },
  {
   "cell_type": "code",
   "execution_count": 90,
   "metadata": {},
   "outputs": [
    {
     "data": {
      "text/plain": [
       "<matplotlib.axes._subplots.AxesSubplot at 0x7f0ddc2b32b0>"
      ]
     },
     "execution_count": 90,
     "metadata": {},
     "output_type": "execute_result"
    },
    {
     "data": {
      "image/png": "[encoded data removed]",
      "text/plain": [
       "<Figure size 432x288 with 2 Axes>"
      ]
     },
     "metadata": {},
     "output_type": "display_data"
    }
   ],
   "source": [
    "import seaborn as sn\n",
    "import pandas as pd\n",
    "import matplotlib.pyplot as plt\n",
    "\n",
    "array=confusion_matrix(real, pred)\n",
    "\n",
    "df_cm = pd.DataFrame(array, range(10),\n",
    "                  range(10))\n",
    "#plt.figure(figsize = (10,7))\n",
    "sn.set(font_scale=1)#for label size\n",
    "sn.heatmap(df_cm, annot=True,annot_kws={\"size\": 7})# font size"
   ]
  },
  {
   "cell_type": "code",
   "execution_count": null,
   "metadata": {},
   "outputs": [],
   "source": []
  }
 ],
 "metadata": {
  "kernelspec": {
   "display_name": "Python 3",
   "language": "python",
   "name": "python3"
  },
  "language_info": {
   "codemirror_mode": {
    "name": "ipython",
    "version": 3
   },
   "file_extension": ".py",
   "mimetype": "text/x-python",
   "name": "python",
   "nbconvert_exporter": "python",
   "pygments_lexer": "ipython3",
   "version": "3.6.7"
  }
 },
 "nbformat": 4,
 "nbformat_minor": 2
}
